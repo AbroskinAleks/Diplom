{
 "cells": [
  {
   "cell_type": "code",
   "execution_count": 56,
   "id": "4ca2d40a",
   "metadata": {},
   "outputs": [],
   "source": [
    "import random\n",
    "import networkx\n",
    "import networkx as nx\n",
    "import matplotlib.pyplot as plt\n",
    "from tqdm import tqdm\n",
    "import time \n",
    "import numpy\n",
    "import xlwt\n",
    "import math"
   ]
  },
  {
   "cell_type": "code",
   "execution_count": 2,
   "id": "06850cf7",
   "metadata": {},
   "outputs": [],
   "source": [
    "def find(elem, arrays):\n",
    "    for array in arrays:\n",
    "        if elem in array:\n",
    "            return arrays.index(array)\n",
    "    return -1"
   ]
  },
  {
   "cell_type": "code",
   "execution_count": 3,
   "id": "5bc6f4f0",
   "metadata": {},
   "outputs": [],
   "source": [
    "class Tree(object):\n",
    "    \n",
    "    def __init__(self, size):\n",
    "        self.nodes = range(size)\n",
    "        self.edges = []\n",
    "        self.pos_edges = []\n",
    "        for i in self.nodes:\n",
    "            for j in self.nodes:\n",
    "                if i != j:\n",
    "                    self.pos_edges.append([i, j])\n",
    "        self.matrix = []\n",
    "        for s in range(len(self.nodes)):\n",
    "            self.matrix.append([s] * len(self.nodes))\n",
    "        for s in range(len(self.nodes)):\n",
    "            for t in range(len(self.nodes)):\n",
    "                self.matrix[s][t] = 0\n",
    "        self.svyaznost = []\n",
    "        \n",
    "    def step(self, func, stepen = []):\n",
    "        #print(self.pos_edges)\n",
    "        edge = self.pos_edges[random.randint(0, len(self.pos_edges) - 1)]\n",
    "        self.edges.append(edge) \n",
    "        self.matrix[edge[0]][edge[1]] = 1\n",
    "        self.matrix[edge[1]][edge[0]] = 1\n",
    "        self.pos_edges.remove(edge)\n",
    "        v0 = find(edge[0], self.svyaznost)\n",
    "        v1 = find(edge[1], self.svyaznost)\n",
    "        if v0 == -1:\n",
    "            if v1 == -1:\n",
    "                self.svyaznost.append([edge[0], edge[1]])\n",
    "            else:\n",
    "                self.svyaznost[v1].append(edge[0])\n",
    "        elif v1 == -1:\n",
    "            self.svyaznost[v0].append(edge[1])\n",
    "        else:\n",
    "            first = min(v0, v1)\n",
    "            second = max(v0, v1)\n",
    "            nov = self.svyaznost[first] + self.svyaznost[second]\n",
    "            self.svyaznost = self.svyaznost[:first] + self.svyaznost[first + 1:second] + self.svyaznost[second + 1:] + [nov]\n",
    "        self.pos_edges = func(self.matrix, self.svyaznost, stepen)\n",
    "        \n",
    "    def draw(self):\n",
    "        g = networkx.Graph(directed=False)\n",
    "        for node in self.nodes:\n",
    "            g.add_node(node)\n",
    "        for edge in self.edges:\n",
    "            g.add_edge(edge[0], edge[1])\n",
    "        \n",
    "        plt.xkcd()\n",
    "        k = dict(nx.degree(g))\n",
    "        plt.figure(1, figsize= (10,7))\n",
    "        coord = nx.spring_layout(g, k = 0.3, iterations = 20)\n",
    "        nx.draw_networkx(g, \n",
    "                 pos=coord,\n",
    "                 nodelist=list(k.keys()),\n",
    "                 node_size = [300 for d in list(k.values())],\n",
    "                 #node_color=list(k.values()),\n",
    "                 font_size=8,\n",
    "                 cmap=plt.cm.Reds,\n",
    "                 width = 0.5,\n",
    "                 with_labels=True)\n",
    "        plt.show()"
   ]
  },
  {
   "cell_type": "code",
   "execution_count": 4,
   "id": "14c49047",
   "metadata": {},
   "outputs": [],
   "source": [
    "def all_func(matrix, svyznost, stepen):\n",
    "    pos_matrix = []\n",
    "    for s in range(len(matrix)):\n",
    "        pos_matrix.append([s] * len(matrix))\n",
    "    for s in range(len(matrix)):\n",
    "        for t in range(len(matrix)):\n",
    "            pos_matrix[s][t] = 0\n",
    "    for komponent in svyznost:\n",
    "        for v0 in komponent:\n",
    "            for v1 in komponent:\n",
    "                #print(v0, v1)\n",
    "                #print(pos_matrix, matrix)\n",
    "                pos_matrix[v0][v1] += 2 * matrix[v0][v1] - 1\n",
    "    pos_edges = []\n",
    "    for s in range(len(matrix)):\n",
    "        for t in range(s):\n",
    "            if pos_matrix[s][t] == 0:\n",
    "                pos_edges.append([s, t])\n",
    "    return pos_edges"
   ]
  },
  {
   "cell_type": "code",
   "execution_count": 5,
   "id": "1fa62d4e",
   "metadata": {},
   "outputs": [],
   "source": [
    "def izol(graph):\n",
    "    flag = False\n",
    "    for node_spis in graph.matrix:\n",
    "        if not 1 in node_spis:\n",
    "            flag = True\n",
    "            break\n",
    "    return flag     "
   ]
  },
  {
   "cell_type": "code",
   "execution_count": 6,
   "id": "a08fb698",
   "metadata": {},
   "outputs": [
    {
     "name": "stderr",
     "output_type": "stream",
     "text": [
      "100%|████████████████████████████████████████████████████████████████████████████| 1000/1000 [00:00<00:00, 1745.92it/s]\n"
     ]
    }
   ],
   "source": [
    "zapusk = range(1, 1001)\n",
    "result10 = []\n",
    "\n",
    "for i in tqdm(zapusk):\n",
    "    example = Tree(10)\n",
    "    for j in range(9):\n",
    "        example.step(all_func)\n",
    "        if not izol(example):\n",
    "            result10.append(j + 1) \n",
    "            break"
   ]
  },
  {
   "cell_type": "code",
   "execution_count": 9,
   "id": "c6202f96",
   "metadata": {},
   "outputs": [
    {
     "data": {
      "image/png": "[encoded data removed]",
      "text/plain": [
       "<Figure size 432x288 with 1 Axes>"
      ]
     },
     "metadata": {
      "needs_background": "light"
     },
     "output_type": "display_data"
    }
   ],
   "source": [
    "plt.hist(result10, bins = max(result10) - min(result10))\n",
    "plt.show()"
   ]
  },
  {
   "cell_type": "code",
   "execution_count": 10,
   "id": "bdebd48b",
   "metadata": {},
   "outputs": [
    {
     "name": "stderr",
     "output_type": "stream",
     "text": [
      "100%|██████████████████████████████████████████████████████████████████████████████| 1000/1000 [08:13<00:00,  2.03it/s]\n"
     ]
    }
   ],
   "source": [
    "zapusk = range(1, 1001)\n",
    "result100 = []\n",
    "\n",
    "for i in tqdm(zapusk):\n",
    "    example = Tree(100)\n",
    "    for j in range(99 * 50):\n",
    "        #print(len(example.matrix))\n",
    "        example.step(all_func)\n",
    "        if not izol(example):\n",
    "            result100.append(j)\n",
    "            break"
   ]
  },
  {
   "cell_type": "code",
   "execution_count": 11,
   "id": "fb93302c",
   "metadata": {},
   "outputs": [
    {
     "data": {
      "image/png": "[encoded data removed]",
      "text/plain": [
       "<Figure size 432x288 with 1 Axes>"
      ]
     },
     "metadata": {
      "needs_background": "light"
     },
     "output_type": "display_data"
    }
   ],
   "source": [
    "plt.hist(result100, bins = (max(result100) - min(result100)))\n",
    "plt.show()"
   ]
  },
  {
   "cell_type": "code",
   "execution_count": 6,
   "id": "ebe44f9d",
   "metadata": {},
   "outputs": [],
   "source": [
    "def sorting(array1, array2):\n",
    "    for i in range(len(array1) - 1):\n",
    "        for j in range(len(array1) - i - 1):\n",
    "            if array1[j] < array1[j+1]:\n",
    "                array1[j], array1[j+1] = array1[j+1], array1[j]\n",
    "                array2[j], array2[j+1] = array2[j+1], array2[j]\n",
    "    return array1, array2"
   ]
  },
  {
   "cell_type": "code",
   "execution_count": 7,
   "id": "b85eea97",
   "metadata": {},
   "outputs": [],
   "source": [
    "def stepennaya(matrix, svyaznost, stepen):\n",
    "    pos_matrix = []\n",
    "    for s in range(len(matrix)):\n",
    "        pos_matrix.append([s] * len(matrix))\n",
    "    for s in range(len(matrix)):\n",
    "        for t in range(len(matrix)):\n",
    "            pos_matrix[s][t] = 0\n",
    "    for komponent in svyaznost:\n",
    "        for v0 in komponent:\n",
    "            for v1 in komponent:\n",
    "                #print(v0, v1)\n",
    "                #print(pos_matrix, matrix)\n",
    "                pos_matrix[v0][v1] += 2 * matrix[v0][v1] - 1\n",
    "    \n",
    "    tekush_step = [0] * len(matrix)\n",
    "    for s in range(len(matrix)):\n",
    "        tekush_step[s] = sum(matrix[s])\n",
    "    \n",
    "    nodes = []\n",
    "    for i in range(len(matrix)):\n",
    "        nodes.append(i)\n",
    "    \n",
    "    tekush_step, nodes = sorting(tekush_step, nodes)\n",
    "    \n",
    "    for i in range(len(nodes)):\n",
    "        if stepen[i] == tekush_step[i]:\n",
    "            for j in range(len(nodes)):\n",
    "                pos_matrix[j][nodes[i]] = -1\n",
    "                pos_matrix[nodes[i]][j] = -1\n",
    "    \n",
    "    pos_edges = []\n",
    "    for s in range(len(matrix)):\n",
    "        for t in range(s):\n",
    "            if pos_matrix[s][t] == 0:\n",
    "                pos_edges.append([s, t])\n",
    "    return pos_edges"
   ]
  },
  {
   "cell_type": "code",
   "execution_count": 14,
   "id": "9693ace0",
   "metadata": {},
   "outputs": [
    {
     "name": "stdout",
     "output_type": "stream",
     "text": [
      "[[10, 2], [5, 0], [8, 3], [9, 8], [8, 6], [8, 5], [7, 0], [5, 2], [1, 0], [11, 0], [4, 1]]\n"
     ]
    }
   ],
   "source": [
    "example = Tree(12)\n",
    "stepeni = [4, 4, 3, 2, 2, 1, 1, 1, 1, 1, 1, 1]\n",
    "for j in range(11):\n",
    "    try:\n",
    "        example.step(stepennaya, stepeni)\n",
    "    except ValueError:\n",
    "        print('neudacha')\n",
    "    #print(example.pos_edges)\n",
    "print(example.edges)\n",
    "#print(example.matrix)"
   ]
  },
  {
   "cell_type": "code",
   "execution_count": 8,
   "id": "0d8d5656",
   "metadata": {},
   "outputs": [],
   "source": [
    "def find_komponent(tree_matrix, i):\n",
    "    nodes = [i]\n",
    "    obrabot = []\n",
    "    num = 0\n",
    "    while nodes != obrabot:\n",
    "        for i in range(len(tree_matrix)):\n",
    "            if tree_matrix[nodes[num]][i] == 1 and i not in nodes:\n",
    "                nodes.append(i)\n",
    "        obrabot.append(nodes[num])\n",
    "        num += 1\n",
    "    return nodes"
   ]
  },
  {
   "cell_type": "code",
   "execution_count": 16,
   "id": "b3e4b3ef",
   "metadata": {},
   "outputs": [
    {
     "data": {
      "text/plain": [
       "[0, 1, 5, 7, 11, 4, 2, 8, 10, 3, 6, 9]"
      ]
     },
     "execution_count": 16,
     "metadata": {},
     "output_type": "execute_result"
    }
   ],
   "source": [
    "find_komponent(example.matrix, 0)"
   ]
  },
  {
   "cell_type": "code",
   "execution_count": 9,
   "id": "fa4a955e",
   "metadata": {},
   "outputs": [],
   "source": [
    "def nezavisimost(tree_matrix):\n",
    "    matrix = []\n",
    "    for s in range(len(tree_matrix)):\n",
    "        matrix.append([s] * len(tree_matrix))\n",
    "    for s in range(len(matrix)):\n",
    "        for t in range(len(matrix)):\n",
    "            #print(s, t)\n",
    "            matrix[s][t] = tree_matrix[s][t]\n",
    "    vershin = 0\n",
    "    #if len(matrix) != 25:\n",
    "    #    print(matrix)\n",
    "    for i in range(len(matrix)):\n",
    "        if sum(matrix[i]) != 0:\n",
    "            vershin += 1\n",
    "            if vershin == 1:\n",
    "                first_ver = i\n",
    "    if vershin == 0:\n",
    "        return []\n",
    "    if vershin == 1 or vershin == 2:\n",
    "        return [first_ver]\n",
    "    nezav = []\n",
    "    nedos = []\n",
    "    for i in range(len(matrix)):\n",
    "        if sum(matrix[i]) == 1:\n",
    "            nezav.append(i)\n",
    "    for versh in nezav:\n",
    "        for j in range(len(matrix)):\n",
    "            if matrix[versh][j] == 1:\n",
    "                nedos.append(j)\n",
    "                for k in range(len(matrix)):\n",
    "                    matrix[j][k] = 0\n",
    "                    matrix[k][j] = 0\n",
    "                    \n",
    "    obrabot = []\n",
    "    for i in range(len(matrix)):\n",
    "        new_matrix = []\n",
    "        if i not in nezav and i not in nedos and i not in obrabot:\n",
    "            if sum(matrix[i]) == 0:\n",
    "                nezav.append(i)\n",
    "            else:\n",
    "                nodes = find_komponent(matrix, i)\n",
    "                for s in range(len(nodes)):\n",
    "                    new_matrix.append([s] * len(nodes))\n",
    "                    for t in range(len(nodes)):\n",
    "                        new_matrix[s][t] = 0\n",
    "                for versh1 in nodes:\n",
    "                    obrabot.append(versh1)\n",
    "                    for versh2 in nodes:\n",
    "                        new_matrix[nodes.index(versh1)][nodes.index(versh2)] = matrix[versh1][versh2]\n",
    "     #           print(len(new_matrix))\n",
    "                #print(new_matrix)\n",
    "                code = nezavisimost(new_matrix)\n",
    "                for i in code:\n",
    "                    nezav.append(nodes[i])\n",
    "            \n",
    "    return nezav"
   ]
  },
  {
   "cell_type": "code",
   "execution_count": 33,
   "id": "412cc5b0",
   "metadata": {},
   "outputs": [
    {
     "name": "stderr",
     "output_type": "stream",
     "text": [
      "100%|██████████████████████████████████████████████████████████████████████████████| 1000/1000 [53:54<00:00,  3.23s/it]\n"
     ]
    }
   ],
   "source": [
    "zapusk = range(1, 1001)\n",
    "stepeni = [7, 6, 5, 4, 3, 3, 2, 1, 1, 1, 1, 1, 1, 1, 1, 1, 1, 1, 1, 1, 1, 1, 1, 1, 1]\n",
    "nezavis = []\n",
    "flag = True\n",
    "\n",
    "for i in tqdm(zapusk):\n",
    "    example = Tree(25)\n",
    "    flag = True\n",
    "    while flag:\n",
    "        example = Tree(25)\n",
    "        for j in range(24):\n",
    "            try:\n",
    "                example.step(stepennaya, stepeni)\n",
    "                flag = False\n",
    "            except ValueError:\n",
    "                flag = True\n",
    "    if not flag:\n",
    "        nezavis.append(len(nezavisimost(example.matrix)))"
   ]
  },
  {
   "cell_type": "code",
   "execution_count": 34,
   "id": "4b5b4d47",
   "metadata": {},
   "outputs": [
    {
     "data": {
      "image/png": "[encoded data removed]",
      "text/plain": [
       "<Figure size 432x288 with 1 Axes>"
      ]
     },
     "metadata": {
      "needs_background": "light"
     },
     "output_type": "display_data"
    }
   ],
   "source": [
    "plt.hist(nezavis)\n",
    "plt.show()"
   ]
  },
  {
   "cell_type": "code",
   "execution_count": 47,
   "id": "47005a90",
   "metadata": {},
   "outputs": [
    {
     "name": "stderr",
     "output_type": "stream",
     "text": [
      "100%|██████████████████████████████████████████████████████████████████████████████| 1000/1000 [00:28<00:00, 35.37it/s]\n"
     ]
    }
   ],
   "source": [
    "zapusk = range(1, 1001)\n",
    "stepeni = [3, 3, 3, 3, 3, 3, 3, 3, 2, 2, 2, 2, 2, 2, 2, 1, 1, 1, 1, 1, 1, 1, 1, 1, 1]\n",
    "nezavis = []\n",
    "flag = True\n",
    "\n",
    "for i in tqdm(zapusk):\n",
    "    example = Tree(25)\n",
    "    flag = True\n",
    "    while flag:\n",
    "        example = Tree(25)\n",
    "        for j in range(24):\n",
    "            try:\n",
    "                example.step(stepennaya, stepeni)\n",
    "                flag = False\n",
    "            except ValueError:\n",
    "                flag = True\n",
    "    if not flag:\n",
    "        nezavis.append(len(nezavisimost(example.matrix)))"
   ]
  },
  {
   "cell_type": "code",
   "execution_count": 48,
   "id": "5c3a1c9e",
   "metadata": {},
   "outputs": [
    {
     "data": {
      "image/png": "[encoded data removed]",
      "text/plain": [
       "<Figure size 432x288 with 1 Axes>"
      ]
     },
     "metadata": {
      "needs_background": "light"
     },
     "output_type": "display_data"
    }
   ],
   "source": [
    "plt.hist(nezavis)\n",
    "plt.show()"
   ]
  },
  {
   "cell_type": "code",
   "execution_count": 18,
   "id": "f5cdf76a",
   "metadata": {},
   "outputs": [
    {
     "name": "stderr",
     "output_type": "stream",
     "text": [
      "100%|██████████████████████████████████████████████████████████████████████████████| 1000/1000 [01:47<00:00,  9.34it/s]\n"
     ]
    }
   ],
   "source": [
    "zapusk = range(1, 1001)\n",
    "stepeni = [5, 5, 4, 3, 3, 3, 2, 2, 2, 2, 2, 2, 1, 1, 1, 1, 1, 1, 1, 1, 1, 1, 1, 1, 1]\n",
    "nezavis = []\n",
    "flag = True\n",
    "\n",
    "for i in tqdm(zapusk):\n",
    "    example = Tree(25)\n",
    "    flag = True\n",
    "    while flag:\n",
    "        example = Tree(25)\n",
    "        for j in range(24):\n",
    "            try:\n",
    "                example.step(stepennaya, stepeni)\n",
    "                flag = False\n",
    "            except ValueError:\n",
    "                flag = True\n",
    "    if not flag:\n",
    "        nezavis.append(len(nezavisimost(example.matrix)))"
   ]
  },
  {
   "cell_type": "code",
   "execution_count": 19,
   "id": "0cbad163",
   "metadata": {},
   "outputs": [
    {
     "data": {
      "image/png": "[encoded data removed]",
      "text/plain": [
       "<Figure size 432x288 with 1 Axes>"
      ]
     },
     "metadata": {
      "needs_background": "light"
     },
     "output_type": "display_data"
    }
   ],
   "source": [
    "plt.hist(nezavis)\n",
    "plt.show()"
   ]
  },
  {
   "cell_type": "code",
   "execution_count": 23,
   "id": "2746567c",
   "metadata": {},
   "outputs": [
    {
     "name": "stderr",
     "output_type": "stream",
     "text": [
      "100%|██████████████████████████████████████████████████████████████████████████████| 1000/1000 [00:28<00:00, 35.54it/s]\n"
     ]
    }
   ],
   "source": [
    "zapusk = range(1, 1001)\n",
    "stepeni = [4, 4, 3, 3, 3, 2, 2, 2, 2, 2, 2, 2, 2, 2, 2, 2, 1, 1, 1, 1, 1, 1, 1, 1, 1]\n",
    "nezavis = []\n",
    "flag = True\n",
    "\n",
    "for i in tqdm(zapusk):\n",
    "    example = Tree(25)\n",
    "    flag = True\n",
    "    while flag:\n",
    "        example = Tree(25)\n",
    "        for j in range(24):\n",
    "            try:\n",
    "                example.step(stepennaya, stepeni)\n",
    "                flag = False\n",
    "            except ValueError:\n",
    "                flag = True\n",
    "    if not flag:\n",
    "        nezavis.append(len(nezavisimost(example.matrix)))"
   ]
  },
  {
   "cell_type": "code",
   "execution_count": 24,
   "id": "006e6b37",
   "metadata": {},
   "outputs": [
    {
     "data": {
      "image/png": "[encoded data removed]",
      "text/plain": [
       "<Figure size 432x288 with 1 Axes>"
      ]
     },
     "metadata": {
      "needs_background": "light"
     },
     "output_type": "display_data"
    }
   ],
   "source": [
    "plt.hist(nezavis)\n",
    "plt.show()"
   ]
  },
  {
   "cell_type": "code",
   "execution_count": 25,
   "id": "c92236a3",
   "metadata": {},
   "outputs": [
    {
     "name": "stderr",
     "output_type": "stream",
     "text": [
      "100%|██████████████████████████████████████████████████████████████████████████████| 1000/1000 [00:55<00:00, 18.06it/s]\n"
     ]
    }
   ],
   "source": [
    "zapusk = range(1, 1001)\n",
    "stepeni = [5, 4, 4, 3, 3, 2, 2, 2, 2, 2, 2, 2, 2, 2, 1, 1, 1, 1, 1, 1, 1, 1, 1, 1, 1]\n",
    "nezavis = []\n",
    "flag = True\n",
    "\n",
    "for i in tqdm(zapusk):\n",
    "    example = Tree(25)\n",
    "    flag = True\n",
    "    while flag:\n",
    "        example = Tree(25)\n",
    "        for j in range(24):\n",
    "            try:\n",
    "                example.step(stepennaya, stepeni)\n",
    "                flag = False\n",
    "            except ValueError:\n",
    "                flag = True\n",
    "    if not flag:\n",
    "        nezavis.append(len(nezavisimost(example.matrix)))"
   ]
  },
  {
   "cell_type": "code",
   "execution_count": 26,
   "id": "8c949d46",
   "metadata": {},
   "outputs": [
    {
     "data": {
      "image/png": "[encoded data removed]",
      "text/plain": [
       "<Figure size 432x288 with 1 Axes>"
      ]
     },
     "metadata": {
      "needs_background": "light"
     },
     "output_type": "display_data"
    }
   ],
   "source": [
    "plt.hist(nezavis)\n",
    "plt.show()"
   ]
  },
  {
   "cell_type": "code",
   "execution_count": 10,
   "id": "c65311e2",
   "metadata": {},
   "outputs": [],
   "source": [
    "def dominirovanie(tree_matrix, flags):\n",
    "    matrix = []\n",
    "    reber = 0\n",
    "    for s in range(len(tree_matrix)):\n",
    "        matrix.append([s] * len(tree_matrix))\n",
    "        reber += sum(tree_matrix[s])\n",
    "    reber = reber/2\n",
    "    if reber == 0:\n",
    "        return []\n",
    "    if reber == 1:\n",
    "        kands = []\n",
    "        for i in range(len(tree_matrix)):\n",
    "            if sum(tree_matrix[i]) == 1:\n",
    "                kands.append(i)\n",
    "        if kands[0] in flags and kands[1] in flags:\n",
    "            return[]\n",
    "        return [kands[0]]\n",
    "    for s in range(len(matrix)):\n",
    "        for t in range(len(matrix)):\n",
    "            matrix[s][t] = tree_matrix[s][t]\n",
    "    \n",
    "    domin = []\n",
    "    lists = []\n",
    "    for i in range(len(matrix)):\n",
    "        if sum(matrix[i]) == 1:\n",
    "            lists.append(i)\n",
    "            for j in range(len(matrix)):\n",
    "                if matrix[i][j] == 1 and j not in domin:\n",
    "                    domin.append(j)\n",
    "    #print(domin)\n",
    "    #print(lists)\n",
    "    for versh in domin:\n",
    "        for j in range(len(matrix)):\n",
    "            if matrix[versh][j] == 1:\n",
    "                if j not in flags:\n",
    "                    flags.append(j)\n",
    "                if sum(matrix[j]) > 2:\n",
    "                    matrix[j][versh] = 0\n",
    "                    matrix[versh][j] = 0\n",
    "                else:\n",
    "                    for k in range(len(matrix)):\n",
    "                        matrix[j][k] = 0\n",
    "                        matrix[k][j] = 0\n",
    "                        \n",
    "    obrabot = []\n",
    "    #print(flags, domin)\n",
    "    for i in range(len(matrix)):\n",
    "        new_matrix = []\n",
    "        if i not in domin and i not in lists and i not in obrabot:\n",
    "            if sum(matrix[i]) == 0 and i not in flags:\n",
    "                domin.append(i)\n",
    "            elif sum(matrix[i]) == 0 and i in flags:\n",
    "                obrabot.append(i)\n",
    "            elif sum(matrix[i]) == 1 and i in flags:\n",
    "                obrabot.append(i)\n",
    "            else:\n",
    "                nodes = find_komponent(matrix, i)\n",
    "                flag_komponent = []\n",
    "                for versh in nodes:\n",
    "                    if versh in flags:\n",
    "                        flag_komponent.append(nodes.index(versh))\n",
    "                for s in range(len(nodes)):\n",
    "                    new_matrix.append([s] * len(nodes))\n",
    "                    for t in range(len(nodes)):\n",
    "                        new_matrix[s][t] = 0\n",
    "                for versh1 in nodes:\n",
    "                    obrabot.append(versh1)\n",
    "                    for versh2 in nodes:\n",
    "                        new_matrix[nodes.index(versh1)][nodes.index(versh2)] = matrix[versh1][versh2]\n",
    "                #print(new_matrix, nodes)       \n",
    "                code = dominirovanie(new_matrix, flag_komponent)\n",
    "                #print(code)\n",
    "                for i in code:\n",
    "                    domin.append(nodes[i])\n",
    "                    \n",
    "    return domin"
   ]
  },
  {
   "cell_type": "code",
   "execution_count": 34,
   "id": "7ba7827e",
   "metadata": {},
   "outputs": [
    {
     "name": "stderr",
     "output_type": "stream",
     "text": [
      "100%|██████████████████████████████████████████████████████████████████████████████| 1000/1000 [42:19<00:00,  2.54s/it]\n"
     ]
    }
   ],
   "source": [
    "zapusk = range(1, 1001)\n",
    "stepeni = [7, 6, 5, 4, 3, 3, 2, 1, 1, 1, 1, 1, 1, 1, 1, 1, 1, 1, 1, 1, 1, 1, 1, 1, 1]\n",
    "dominir6 = []\n",
    "nezavis6 = []\n",
    "domnez6 = []\n",
    "flag = True\n",
    "\n",
    "for i in tqdm(zapusk):\n",
    "    example = Tree(25)\n",
    "    flag = True\n",
    "    while flag:\n",
    "        example = Tree(25)\n",
    "        for j in range(24):\n",
    "            try:\n",
    "                example.step(stepennaya, stepeni)\n",
    "                flag = False\n",
    "            except ValueError:\n",
    "                flag = True\n",
    "    if not flag:\n",
    "        nez = len(nezavisimost(example.matrix))\n",
    "        dom = len(dominirovanie(example.matrix, []))\n",
    "        dominir6.append(dom)\n",
    "        nezavis6.append(nez)\n",
    "        domnez6.append(dom + nez)"
   ]
  },
  {
   "cell_type": "code",
   "execution_count": 36,
   "id": "d6428764",
   "metadata": {},
   "outputs": [
    {
     "data": {
      "image/png": "[encoded data removed]",
      "text/plain": [
       "<Figure size 432x288 with 1 Axes>"
      ]
     },
     "metadata": {
      "needs_background": "light"
     },
     "output_type": "display_data"
    }
   ],
   "source": [
    "plt.hist(dominir6)\n",
    "plt.hist(nezavis6, color = 'red')\n",
    "plt.hist(domnez6, color = 'green')\n",
    "plt.show()"
   ]
  },
  {
   "cell_type": "code",
   "execution_count": 37,
   "id": "4350b0d3",
   "metadata": {},
   "outputs": [
    {
     "name": "stderr",
     "output_type": "stream",
     "text": [
      "100%|██████████████████████████████████████████████████████████████████████████████| 1000/1000 [00:20<00:00, 49.17it/s]\n"
     ]
    }
   ],
   "source": [
    "zapusk = range(1, 1001)\n",
    "stepeni = [3, 3, 3, 3, 3, 3, 3, 3, 2, 2, 2, 2, 2, 2, 2, 1, 1, 1, 1, 1, 1, 1, 1, 1, 1]\n",
    "dominir7 = []\n",
    "nezavis7 = []\n",
    "domnez7 = []\n",
    "flag = True\n",
    "\n",
    "for i in tqdm(zapusk):\n",
    "    example = Tree(25)\n",
    "    flag = True\n",
    "    while flag:\n",
    "        example = Tree(25)\n",
    "        for j in range(24):\n",
    "            try:\n",
    "                example.step(stepennaya, stepeni)\n",
    "                flag = False\n",
    "            except ValueError:\n",
    "                flag = True\n",
    "    if not flag:\n",
    "        nez = len(nezavisimost(example.matrix))\n",
    "        dom = len(dominirovanie(example.matrix, []))\n",
    "        dominir7.append(dom)\n",
    "        nezavis7.append(nez)\n",
    "        domnez7.append(dom + nez)\n",
    "        "
   ]
  },
  {
   "cell_type": "code",
   "execution_count": 38,
   "id": "4e8c9ffe",
   "metadata": {},
   "outputs": [
    {
     "data": {
      "image/png": "[encoded data removed]",
      "text/plain": [
       "<Figure size 432x288 with 1 Axes>"
      ]
     },
     "metadata": {
      "needs_background": "light"
     },
     "output_type": "display_data"
    }
   ],
   "source": [
    "plt.hist(dominir7)\n",
    "plt.hist(nezavis7, color = 'red')\n",
    "plt.hist(domnez7, color = 'green')\n",
    "plt.show()"
   ]
  },
  {
   "cell_type": "code",
   "execution_count": 39,
   "id": "bf904105",
   "metadata": {},
   "outputs": [
    {
     "name": "stderr",
     "output_type": "stream",
     "text": [
      "100%|██████████████████████████████████████████████████████████████████████████████| 1000/1000 [01:02<00:00, 16.00it/s]\n"
     ]
    }
   ],
   "source": [
    "zapusk = range(1, 1001)\n",
    "stepeni = [5, 5, 4, 3, 3, 3, 2, 2, 2, 2, 2, 2, 1, 1, 1, 1, 1, 1, 1, 1, 1, 1, 1, 1, 1]\n",
    "dominir8 = []\n",
    "nezavis8 = []\n",
    "domnez8 = []\n",
    "flag = True\n",
    "\n",
    "for i in tqdm(zapusk):\n",
    "    example = Tree(25)\n",
    "    flag = True\n",
    "    while flag:\n",
    "        example = Tree(25)\n",
    "        for j in range(24):\n",
    "            try:\n",
    "                example.step(stepennaya, stepeni)\n",
    "                flag = False\n",
    "            except ValueError:\n",
    "                flag = True\n",
    "    if not flag:\n",
    "        nez = len(nezavisimost(example.matrix))\n",
    "        dom = len(dominirovanie(example.matrix, []))\n",
    "        dominir8.append(dom)\n",
    "        nezavis8.append(nez)\n",
    "        domnez8.append(dom + nez)"
   ]
  },
  {
   "cell_type": "code",
   "execution_count": 40,
   "id": "fe6a2739",
   "metadata": {},
   "outputs": [
    {
     "data": {
      "image/png": "[encoded data removed]",
      "text/plain": [
       "<Figure size 432x288 with 1 Axes>"
      ]
     },
     "metadata": {
      "needs_background": "light"
     },
     "output_type": "display_data"
    }
   ],
   "source": [
    "plt.hist(dominir8)\n",
    "plt.hist(nezavis8, color = 'red')\n",
    "plt.hist(domnez8, color = 'green')\n",
    "plt.show()"
   ]
  },
  {
   "cell_type": "code",
   "execution_count": 41,
   "id": "7b5a102e",
   "metadata": {},
   "outputs": [
    {
     "name": "stderr",
     "output_type": "stream",
     "text": [
      "100%|██████████████████████████████████████████████████████████████████████████████| 1000/1000 [00:17<00:00, 55.75it/s]\n"
     ]
    }
   ],
   "source": [
    "zapusk = range(1, 1001)\n",
    "stepeni = [4, 4, 3, 3, 3, 2, 2, 2, 2, 2, 2, 2, 2, 2, 2, 2, 1, 1, 1, 1, 1, 1, 1, 1, 1]\n",
    "dominir9 = []\n",
    "nezavis9 = []\n",
    "domnez9 = []\n",
    "flag = True\n",
    "\n",
    "for i in tqdm(zapusk):\n",
    "    example = Tree(25)\n",
    "    flag = True\n",
    "    while flag:\n",
    "        example = Tree(25)\n",
    "        for j in range(24):\n",
    "            try:\n",
    "                example.step(stepennaya, stepeni)\n",
    "                flag = False\n",
    "            except ValueError:\n",
    "                flag = True\n",
    "    if not flag:\n",
    "        nez = len(nezavisimost(example.matrix))\n",
    "        dom = len(dominirovanie(example.matrix, []))\n",
    "        dominir9.append(dom)\n",
    "        nezavis9.append(nez)\n",
    "        domnez9.append(dom + nez)"
   ]
  },
  {
   "cell_type": "code",
   "execution_count": 42,
   "id": "d17346f7",
   "metadata": {},
   "outputs": [
    {
     "data": {
      "image/png": "[encoded data removed]",
      "text/plain": [
       "<Figure size 432x288 with 1 Axes>"
      ]
     },
     "metadata": {
      "needs_background": "light"
     },
     "output_type": "display_data"
    }
   ],
   "source": [
    "plt.hist(dominir9)\n",
    "plt.hist(nezavis9, color = 'red')\n",
    "plt.hist(domnez9, color = 'green')\n",
    "plt.show()"
   ]
  },
  {
   "cell_type": "code",
   "execution_count": 43,
   "id": "d93d8de5",
   "metadata": {},
   "outputs": [
    {
     "name": "stderr",
     "output_type": "stream",
     "text": [
      "100%|██████████████████████████████████████████████████████████████████████████████| 1000/1000 [00:35<00:00, 28.14it/s]\n"
     ]
    }
   ],
   "source": [
    "zapusk = range(1, 1001)\n",
    "stepeni = [5, 4, 4, 3, 3, 2, 2, 2, 2, 2, 2, 2, 2, 2, 1, 1, 1, 1, 1, 1, 1, 1, 1, 1, 1]\n",
    "dominir10 = []\n",
    "nezavis10 = []\n",
    "domnez10 = []\n",
    "flag = True\n",
    "\n",
    "for i in tqdm(zapusk):\n",
    "    example = Tree(25)\n",
    "    flag = True\n",
    "    while flag:\n",
    "        example = Tree(25)\n",
    "        for j in range(24):\n",
    "            try:\n",
    "                example.step(stepennaya, stepeni)\n",
    "                flag = False\n",
    "            except ValueError:\n",
    "                flag = True\n",
    "    if not flag:\n",
    "        nez = len(nezavisimost(example.matrix))\n",
    "        dom = len(dominirovanie(example.matrix, []))\n",
    "        dominir10.append(dom)\n",
    "        nezavis10.append(nez)\n",
    "        domnez10.append(dom + nez)"
   ]
  },
  {
   "cell_type": "code",
   "execution_count": 44,
   "id": "e8f30f9a",
   "metadata": {},
   "outputs": [
    {
     "data": {
      "image/png": "[encoded data removed]",
      "text/plain": [
       "<Figure size 432x288 with 1 Axes>"
      ]
     },
     "metadata": {
      "needs_background": "light"
     },
     "output_type": "display_data"
    }
   ],
   "source": [
    "plt.hist(dominir10)\n",
    "plt.hist(nezavis10, color = 'red')\n",
    "plt.hist(domnez10, color = 'green')\n",
    "plt.show()"
   ]
  },
  {
   "cell_type": "code",
   "execution_count": 11,
   "id": "ee606748",
   "metadata": {},
   "outputs": [
    {
     "name": "stderr",
     "output_type": "stream",
     "text": [
      "100%|██████████████████████████████████████████████████████████████████████████████| 1000/1000 [47:51<00:00,  2.87s/it]\n"
     ]
    }
   ],
   "source": [
    "zapusk = range(1, 1001)\n",
    "stepeni = [6, 6, 5, 4, 4, 3, 2, 1, 1, 1, 1, 1, 1, 1, 1, 1, 1, 1, 1, 1, 1, 1, 1, 1, 1]\n",
    "dominir1 = []\n",
    "nezavis1 = []\n",
    "domnez1 = []\n",
    "flag = True\n",
    "\n",
    "for i in tqdm(zapusk):\n",
    "    example = Tree(25)\n",
    "    flag = True\n",
    "    while flag:\n",
    "        example = Tree(25)\n",
    "        for j in range(24):\n",
    "            try:\n",
    "                example.step(stepennaya, stepeni)\n",
    "                flag = False\n",
    "            except ValueError:\n",
    "                flag = True\n",
    "    if not flag:\n",
    "        nez = len(nezavisimost(example.matrix))\n",
    "        dom = len(dominirovanie(example.matrix, []))\n",
    "        dominir1.append(dom)\n",
    "        nezavis1.append(nez)\n",
    "        domnez1.append(dom + nez)"
   ]
  },
  {
   "cell_type": "code",
   "execution_count": 12,
   "id": "01d7e02c",
   "metadata": {},
   "outputs": [
    {
     "data": {
      "image/png": "[encoded data removed]",
      "text/plain": [
       "<Figure size 432x288 with 1 Axes>"
      ]
     },
     "metadata": {
      "needs_background": "light"
     },
     "output_type": "display_data"
    }
   ],
   "source": [
    "plt.hist(dominir1)\n",
    "plt.hist(nezavis1, color = 'red')\n",
    "plt.hist(domnez1, color = 'green')\n",
    "plt.show()"
   ]
  },
  {
   "cell_type": "code",
   "execution_count": 13,
   "id": "4391996f",
   "metadata": {},
   "outputs": [
    {
     "name": "stderr",
     "output_type": "stream",
     "text": [
      "100%|██████████████████████████████████████████████████████████████████████████████| 1000/1000 [02:12<00:00,  7.57it/s]\n"
     ]
    }
   ],
   "source": [
    "zapusk = range(1, 1001)\n",
    "stepeni = [5, 4, 4, 4, 3, 3, 2, 2, 2, 2, 2, 2, 2, 1, 1, 1, 1, 1, 1, 1, 1, 1, 1, 1, 1, 1]\n",
    "dominir2 = []\n",
    "nezavis2 = []\n",
    "domnez2 = []\n",
    "flag = True\n",
    "\n",
    "for i in tqdm(zapusk):\n",
    "    example = Tree(26)\n",
    "    flag = True\n",
    "    while flag:\n",
    "        example = Tree(26)\n",
    "        for j in range(25):\n",
    "            try:\n",
    "                example.step(stepennaya, stepeni)\n",
    "                flag = False\n",
    "            except ValueError:\n",
    "                flag = True\n",
    "    if not flag:\n",
    "        nez = len(nezavisimost(example.matrix))\n",
    "        dom = len(dominirovanie(example.matrix, []))\n",
    "        dominir2.append(dom)\n",
    "        nezavis2.append(nez)\n",
    "        domnez2.append(dom + nez)"
   ]
  },
  {
   "cell_type": "code",
   "execution_count": 14,
   "id": "a39a6bec",
   "metadata": {},
   "outputs": [
    {
     "data": {
      "image/png": "[encoded data removed]",
      "text/plain": [
       "<Figure size 432x288 with 1 Axes>"
      ]
     },
     "metadata": {
      "needs_background": "light"
     },
     "output_type": "display_data"
    }
   ],
   "source": [
    "plt.hist(dominir2)\n",
    "plt.hist(nezavis2, color = 'red')\n",
    "plt.hist(domnez2, color = 'green')\n",
    "plt.show()"
   ]
  },
  {
   "cell_type": "code",
   "execution_count": 15,
   "id": "86faa102",
   "metadata": {},
   "outputs": [
    {
     "name": "stderr",
     "output_type": "stream",
     "text": [
      "100%|██████████████████████████████████████████████████████████████████████████████| 1000/1000 [01:31<00:00, 10.95it/s]\n"
     ]
    }
   ],
   "source": [
    "zapusk = range(1, 1001)\n",
    "stepeni = [4, 4, 3, 3, 3, 3, 3, 3, 3, 2, 2, 2, 2, 1, 1, 1, 1, 1, 1, 1, 1, 1, 1, 1, 1, 1]\n",
    "dominir3 = []\n",
    "nezavis3 = []\n",
    "domnez3 = []\n",
    "flag = True\n",
    "\n",
    "for i in tqdm(zapusk):\n",
    "    example = Tree(26)\n",
    "    flag = True\n",
    "    while flag:\n",
    "        example = Tree(26)\n",
    "        for j in range(25):\n",
    "            try:\n",
    "                example.step(stepennaya, stepeni)\n",
    "                flag = False\n",
    "            except ValueError:\n",
    "                flag = True\n",
    "    if not flag:\n",
    "        nez = len(nezavisimost(example.matrix))\n",
    "        dom = len(dominirovanie(example.matrix, []))\n",
    "        dominir3.append(dom)\n",
    "        nezavis3.append(nez)\n",
    "        domnez3.append(dom + nez)"
   ]
  },
  {
   "cell_type": "code",
   "execution_count": 16,
   "id": "37ed9b91",
   "metadata": {},
   "outputs": [
    {
     "data": {
      "image/png": "[encoded data removed]",
      "text/plain": [
       "<Figure size 432x288 with 1 Axes>"
      ]
     },
     "metadata": {
      "needs_background": "light"
     },
     "output_type": "display_data"
    }
   ],
   "source": [
    "plt.hist(dominir3)\n",
    "plt.hist(nezavis3, color = 'red')\n",
    "plt.hist(domnez3, color = 'green')\n",
    "plt.show()"
   ]
  },
  {
   "cell_type": "code",
   "execution_count": 46,
   "id": "f84c10b0",
   "metadata": {},
   "outputs": [
    {
     "name": "stderr",
     "output_type": "stream",
     "text": [
      "100%|██████████████████████████████████████████████████████████████████████████████| 1000/1000 [00:20<00:00, 49.77it/s]\n"
     ]
    }
   ],
   "source": [
    "zapusk = range(1, 1001)\n",
    "stepeni = [3, 3, 3, 3, 3, 3, 3, 3, 2, 2, 2, 2, 2, 2, 2, 1, 1, 1, 1, 1, 1, 1, 1, 1, 1]\n",
    "dominir4 = []\n",
    "nezavis4 = []\n",
    "domnez4 = []\n",
    "flag = True\n",
    "\n",
    "for i in tqdm(zapusk):\n",
    "    example = Tree(25)\n",
    "    flag = True\n",
    "    while flag:\n",
    "        example = Tree(25)\n",
    "        for j in range(24):\n",
    "            try:\n",
    "                example.step(stepennaya, stepeni)\n",
    "                flag = False\n",
    "            except ValueError:\n",
    "                flag = True\n",
    "    if not flag:\n",
    "        nez = len(nezavisimost(example.matrix))\n",
    "        dom = len(dominirovanie(example.matrix, []))\n",
    "        dominir4.append(dom)\n",
    "        nezavis4.append(nez)\n",
    "        domnez4.append(dom + nez)"
   ]
  },
  {
   "cell_type": "code",
   "execution_count": 47,
   "id": "fc6da8ba",
   "metadata": {},
   "outputs": [
    {
     "data": {
      "image/png": "[encoded data removed]",
      "text/plain": [
       "<Figure size 432x288 with 1 Axes>"
      ]
     },
     "metadata": {
      "needs_background": "light"
     },
     "output_type": "display_data"
    }
   ],
   "source": [
    "plt.hist(dominir4)\n",
    "plt.hist(nezavis4, color = 'red')\n",
    "plt.hist(domnez4, color = 'green')\n",
    "plt.show()"
   ]
  },
  {
   "cell_type": "code",
   "execution_count": 20,
   "id": "6f0360e2",
   "metadata": {},
   "outputs": [
    {
     "name": "stderr",
     "output_type": "stream",
     "text": [
      "100%|███████████████████████████████████████████████████████████████████████████| 1000/1000 [13:10:31<00:00, 47.43s/it]\n"
     ]
    }
   ],
   "source": [
    "zapusk = range(1, 1001)\n",
    "stepeni = [7, 7, 7, 3, 2, 2, 2, 1, 1, 1, 1, 1, 1, 1, 1, 1, 1, 1, 1, 1, 1, 1, 1, 1, 1]\n",
    "dominir5 = []\n",
    "nezavis5 = []\n",
    "domnez5 = []\n",
    "flag = True\n",
    "\n",
    "for i in tqdm(zapusk):\n",
    "    example = Tree(25)\n",
    "    flag = True\n",
    "    while flag:\n",
    "        example = Tree(25)\n",
    "        for j in range(24):\n",
    "            try:\n",
    "                example.step(stepennaya, stepeni)\n",
    "                flag = False\n",
    "            except ValueError:\n",
    "                flag = True\n",
    "    if not flag:\n",
    "        nez = len(nezavisimost(example.matrix))\n",
    "        dom = len(dominirovanie(example.matrix, []))\n",
    "        dominir5.append(dom)\n",
    "        nezavis5.append(nez)\n",
    "        domnez5.append(dom + nez)"
   ]
  },
  {
   "cell_type": "code",
   "execution_count": 22,
   "id": "067f14b4",
   "metadata": {},
   "outputs": [
    {
     "data": {
      "image/png": "[encoded data removed]",
      "text/plain": [
       "<Figure size 432x288 with 1 Axes>"
      ]
     },
     "metadata": {
      "needs_background": "light"
     },
     "output_type": "display_data"
    }
   ],
   "source": [
    "plt.hist(dominir5)\n",
    "plt.hist(nezavis5, color = 'red')\n",
    "plt.hist(domnez5, color = 'green')\n",
    "plt.show()"
   ]
  },
  {
   "cell_type": "code",
   "execution_count": 23,
   "id": "69860a68",
   "metadata": {},
   "outputs": [
    {
     "name": "stderr",
     "output_type": "stream",
     "text": [
      "100%|█████████████████████████████████████████████████████████████████████████████| 1000/1000 [00:03<00:00, 304.47it/s]\n"
     ]
    }
   ],
   "source": [
    "zapusk = range(1, 1001)\n",
    "dominir25 = []\n",
    "nezavis25 = []\n",
    "domnez25 = []\n",
    "\n",
    "for i in tqdm(zapusk):\n",
    "    example = Tree(25)\n",
    "    for j in range(24):\n",
    "        example.step(all_func)\n",
    "    \n",
    "    nez = len(nezavisimost(example.matrix))\n",
    "    dom = len(dominirovanie(example.matrix, []))\n",
    "    dominir25.append(dom)\n",
    "    nezavis25.append(nez)\n",
    "    domnez25.append(dom + nez)"
   ]
  },
  {
   "cell_type": "code",
   "execution_count": 25,
   "id": "6f1510d9",
   "metadata": {},
   "outputs": [
    {
     "data": {
      "image/png": "[encoded data removed]",
      "text/plain": [
       "<Figure size 432x288 with 1 Axes>"
      ]
     },
     "metadata": {
      "needs_background": "light"
     },
     "output_type": "display_data"
    }
   ],
   "source": [
    "plt.hist(dominir25)\n",
    "plt.hist(nezavis25, color = 'red')\n",
    "plt.hist(domnez25, color = 'green')\n",
    "plt.show()"
   ]
  },
  {
   "cell_type": "code",
   "execution_count": 32,
   "id": "6ff6ad3f",
   "metadata": {},
   "outputs": [
    {
     "name": "stderr",
     "output_type": "stream",
     "text": [
      "100%|████████████████████████████████████████████████████████████████████████████| 1000/1000 [00:00<00:00, 4074.39it/s]\n"
     ]
    }
   ],
   "source": [
    "zapusk = range(1, 1001)\n",
    "result_tree_10 = []\n",
    "\n",
    "for i in tqdm(zapusk):\n",
    "    example = Tree(10)\n",
    "    for j in range(9):\n",
    "        example.step(all_func)\n",
    "        \n",
    "        if not izol(example):\n",
    "            if j != 8:\n",
    "                result_tree_10.append(1)\n",
    "            else:\n",
    "                result_tree_10.append(0)\n",
    "            break"
   ]
  },
  {
   "cell_type": "code",
   "execution_count": 28,
   "id": "bdd8be37",
   "metadata": {},
   "outputs": [
    {
     "name": "stderr",
     "output_type": "stream",
     "text": [
      "100%|█████████████████████████████████████████████████████████████████████████████| 1000/1000 [00:02<00:00, 337.59it/s]\n"
     ]
    }
   ],
   "source": [
    "zapusk = range(1, 1001)\n",
    "result_tree_25 = []\n",
    "\n",
    "for i in tqdm(zapusk):\n",
    "    example = Tree(25)\n",
    "    for j in range(24):\n",
    "        example.step(all_func)\n",
    "        \n",
    "        if not izol(example):\n",
    "            if j != 23:\n",
    "                result_tree_25.append(1)\n",
    "            else:\n",
    "                result_tree_25.append(0)\n",
    "            break"
   ]
  },
  {
   "cell_type": "code",
   "execution_count": 29,
   "id": "eebdaca7",
   "metadata": {},
   "outputs": [
    {
     "name": "stderr",
     "output_type": "stream",
     "text": [
      "100%|██████████████████████████████████████████████████████████████████████████████| 1000/1000 [00:28<00:00, 34.51it/s]\n"
     ]
    }
   ],
   "source": [
    "zapusk = range(1, 1001)\n",
    "result_tree_50 = []\n",
    "\n",
    "for i in tqdm(zapusk):\n",
    "    example = Tree(50)\n",
    "    for j in range(49):\n",
    "        example.step(all_func)\n",
    "        \n",
    "        if not izol(example):\n",
    "            if j != 48:\n",
    "                result_tree_50.append(1)\n",
    "            else:\n",
    "                result_tree_50.append(0)\n",
    "            break"
   ]
  },
  {
   "cell_type": "code",
   "execution_count": 30,
   "id": "91c5768f",
   "metadata": {},
   "outputs": [
    {
     "name": "stderr",
     "output_type": "stream",
     "text": [
      "100%|██████████████████████████████████████████████████████████████████████████████| 1000/1000 [05:37<00:00,  2.97it/s]\n"
     ]
    }
   ],
   "source": [
    "zapusk = range(1, 1001)\n",
    "result_tree_100 = []\n",
    "\n",
    "for i in tqdm(zapusk):\n",
    "    example = Tree(100)\n",
    "    for j in range(99):\n",
    "        example.step(all_func)\n",
    "        \n",
    "        if not izol(example):\n",
    "            if j != 98:\n",
    "                result_tree_100.append(1)\n",
    "            else:\n",
    "                result_tree_100.append(0)\n",
    "            break"
   ]
  },
  {
   "cell_type": "code",
   "execution_count": 31,
   "id": "eec07856",
   "metadata": {},
   "outputs": [
    {
     "name": "stderr",
     "output_type": "stream",
     "text": [
      "100%|██████████████████████████████████████████████████████████████████████████████| 1000/1000 [47:14<00:00,  2.83s/it]\n"
     ]
    }
   ],
   "source": [
    "zapusk = range(1, 1001)\n",
    "result_tree_200 = []\n",
    "\n",
    "for i in tqdm(zapusk):\n",
    "    example = Tree(200)\n",
    "    for j in range(199):\n",
    "        example.step(all_func)\n",
    "        \n",
    "        if not izol(example):\n",
    "            if j != 198:\n",
    "                result_tree_200.append(1)\n",
    "            else:\n",
    "                result_tree_200.append(0)\n",
    "            break"
   ]
  },
  {
   "cell_type": "code",
   "execution_count": 45,
   "id": "ae06c109",
   "metadata": {},
   "outputs": [
    {
     "name": "stdout",
     "output_type": "stream",
     "text": [
      "0.749\n",
      "0.85\n",
      "0.9339999999999999\n",
      "0.96\n",
      "0.973\n"
     ]
    }
   ],
   "source": [
    "print(1 - sum(result_tree_10)/len(result_tree_10))\n",
    "print(1 - sum(result_tree_25)/len(result_tree_25))\n",
    "print(1 - sum(result_tree_50)/len(result_tree_50))\n",
    "print(1 - sum(result_tree_100)/len(result_tree_100))\n",
    "print(1 - sum(result_tree_200)/len(result_tree_200))"
   ]
  },
  {
   "cell_type": "code",
   "execution_count": 48,
   "id": "f0e108e5",
   "metadata": {},
   "outputs": [
    {
     "data": {
      "text/plain": [
       "156"
      ]
     },
     "execution_count": 48,
     "metadata": {},
     "output_type": "execute_result"
    }
   ],
   "source": [
    "domnez25.count(25)"
   ]
  },
  {
   "cell_type": "code",
   "execution_count": 55,
   "id": "bb1483af",
   "metadata": {},
   "outputs": [],
   "source": [
    "# Import `xlwt` \n",
    "import xlwt\n",
    "\n",
    "# Initialize a workbook \n",
    "book = xlwt.Workbook(encoding=\"utf-8\")\n",
    "\n",
    "# Add a sheet to the workbook \n",
    "sheettree = book.add_sheet(\"tree\")\n",
    "sheet1 = book.add_sheet(\"step1\")\n",
    "sheet2 = book.add_sheet(\"step2\") \n",
    "sheet3 = book.add_sheet(\"step3\") \n",
    "sheet4 = book.add_sheet(\"step4\") \n",
    "sheet5 = book.add_sheet(\"step5\")\n",
    "sheet6 = book.add_sheet(\"step6\")\n",
    "sheet7 = book.add_sheet(\"step7\") \n",
    "sheet8 = book.add_sheet(\"step8\") \n",
    "sheet9 = book.add_sheet(\"step9\") \n",
    "sheet10 = book.add_sheet(\"step10\")\n",
    "\n",
    "# Write to the sheet of the workbook\n",
    "for i in range(1000):\n",
    "    sheettree.write(i, 0, dominir25[i])\n",
    "    sheettree.write(i, 1, nezavis25[i])\n",
    "    sheettree.write(i, 2, domnez25[i])\n",
    "    sheet1.write(i, 0, dominir1[i])\n",
    "    sheet1.write(i, 1, nezavis1[i])\n",
    "    sheet1.write(i, 2, domnez1[i])    \n",
    "    sheet2.write(i, 0, dominir2[i])\n",
    "    sheet2.write(i, 1, nezavis2[i])\n",
    "    sheet2.write(i, 2, domnez2[i])\n",
    "    sheet3.write(i, 0, dominir3[i])\n",
    "    sheet3.write(i, 1, nezavis3[i])\n",
    "    sheet3.write(i, 2, domnez3[i])\n",
    "    sheet4.write(i, 0, dominir4[i])\n",
    "    sheet4.write(i, 1, nezavis4[i])\n",
    "    sheet4.write(i, 2, domnez4[i])\n",
    "    sheet5.write(i, 0, dominir5[i])\n",
    "    sheet5.write(i, 1, nezavis5[i])\n",
    "    sheet5.write(i, 2, domnez5[i])\n",
    "    sheet6.write(i, 0, dominir6[i])\n",
    "    sheet6.write(i, 1, nezavis6[i])\n",
    "    sheet6.write(i, 2, domnez6[i])\n",
    "    sheet7.write(i, 0, dominir7[i])\n",
    "    sheet7.write(i, 1, nezavis7[i])\n",
    "    sheet7.write(i, 2, domnez7[i])\n",
    "    sheet8.write(i, 0, dominir8[i])\n",
    "    sheet8.write(i, 1, nezavis8[i])\n",
    "    sheet8.write(i, 2, domnez8[i])\n",
    "    sheet9.write(i, 0, dominir9[i])\n",
    "    sheet9.write(i, 1, nezavis9[i])\n",
    "    sheet9.write(i, 2, domnez9[i])\n",
    "    sheet10.write(i, 0, dominir10[i])\n",
    "    sheet10.write(i, 1, nezavis10[i])\n",
    "    sheet10.write(i, 2, domnez10[i])\n",
    "    \n",
    "\n",
    "    \n",
    "    \n",
    "# Save the workbook \n",
    "book.save(\"Trees.xls\")"
   ]
  },
  {
   "cell_type": "code",
   "execution_count": 120,
   "id": "5c40a4a2",
   "metadata": {},
   "outputs": [],
   "source": [
    "def granitsy(stepeni):\n",
    "    l = stepeni.count(1)\n",
    "    min_nez = max(l, math.ceil(len(stepeni)/2))\n",
    "    step_non_list = stepeni[:len(stepeni) - l]\n",
    "    a = 0\n",
    "    sum_s = 0\n",
    "    while sum_s <= len(step_non_list):\n",
    "        a += 1\n",
    "        sum_s += step_non_list[len(step_non_list) - a]\n",
    "        \n",
    "    max_nez = l + a - 1\n",
    "    \n",
    "    sl = 0\n",
    "    sum_s = 0\n",
    "    while sum_s < len(stepeni):\n",
    "        sum_s += 1 + step_non_list[sl]\n",
    "        sl += 1\n",
    "        \n",
    "    lv = 0\n",
    "    sum_s = 0\n",
    "    while sum_s < l:\n",
    "        sum_s += step_non_list[lv] - 1\n",
    "        lv += 1\n",
    "        \n",
    "    #print(sl, lv)\n",
    "    min_dom = max(sl, lv)\n",
    "    max_dom = min(len(step_non_list), l + math.floor((len(step_non_list) - l)/3))\n",
    "    return min_nez, max_nez, min_dom, max_dom"
   ]
  },
  {
   "cell_type": "code",
   "execution_count": 121,
   "id": "89b51ec2",
   "metadata": {},
   "outputs": [
    {
     "name": "stdout",
     "output_type": "stream",
     "text": [
      "(18, 20, 5, 7)\n",
      "(13, 19, 6, 13)\n",
      "(13, 18, 6, 13)\n",
      "(13, 17, 7, 11)\n",
      "(18, 21, 4, 7)\n",
      "(18, 20, 4, 7)\n",
      "(13, 17, 7, 11)\n",
      "(13, 19, 5, 12)\n",
      "(13, 17, 6, 11)\n",
      "(13, 18, 6, 12)\n"
     ]
    }
   ],
   "source": [
    "print(granitsy([6, 6, 5, 4, 4, 3, 2, 1, 1, 1, 1, 1, 1, 1, 1, 1, 1, 1, 1, 1, 1, 1, 1, 1, 1]))\n",
    "print(granitsy([5, 4, 4, 4, 3, 3, 2, 2, 2, 2, 2, 2, 2, 1, 1, 1, 1, 1, 1, 1, 1, 1, 1, 1, 1, 1]))\n",
    "print(granitsy([4, 4, 3, 3, 3, 3, 3, 3, 3, 2, 2, 2, 2, 1, 1, 1, 1, 1, 1, 1, 1, 1, 1, 1, 1, 1]))\n",
    "print(granitsy([3, 3, 3, 3, 3, 3, 3, 3, 2, 2, 2, 2, 2, 2, 2, 1, 1, 1, 1, 1, 1, 1, 1, 1, 1]))\n",
    "print(granitsy([7, 7, 7, 3, 2, 2, 2, 1, 1, 1, 1, 1, 1, 1, 1, 1, 1, 1, 1, 1, 1, 1, 1, 1, 1]))\n",
    "print(granitsy([7, 6, 5, 4, 3, 3, 2, 1, 1, 1, 1, 1, 1, 1, 1, 1, 1, 1, 1, 1, 1, 1, 1, 1, 1]))\n",
    "print(granitsy([3, 3, 3, 3, 3, 3, 3, 3, 2, 2, 2, 2, 2, 2, 2, 1, 1, 1, 1, 1, 1, 1, 1, 1, 1]))\n",
    "print(granitsy([5, 5, 4, 3, 3, 3, 2, 2, 2, 2, 2, 2, 1, 1, 1, 1, 1, 1, 1, 1, 1, 1, 1, 1, 1]))\n",
    "print(granitsy([4, 4, 3, 3, 3, 2, 2, 2, 2, 2, 2, 2, 2, 2, 2, 2, 1, 1, 1, 1, 1, 1, 1, 1, 1]))\n",
    "print(granitsy([5, 4, 4, 3, 3, 2, 2, 2, 2, 2, 2, 2, 2, 2, 1, 1, 1, 1, 1, 1, 1, 1, 1, 1, 1]))"
   ]
  },
  {
   "cell_type": "code",
   "execution_count": 119,
   "id": "3e2d0c27",
   "metadata": {},
   "outputs": [
    {
     "name": "stdout",
     "output_type": "stream",
     "text": [
      "4 5\n",
      "(18, 20, 5, 7)\n",
      "4 3\n",
      "(18, 21, 4, 7)\n",
      "4 4\n",
      "(18, 20, 4, 7)\n"
     ]
    }
   ],
   "source": [
    "print(granitsy([6, 6, 5, 4, 4, 3, 2, 1, 1, 1, 1, 1, 1, 1, 1, 1, 1, 1, 1, 1, 1, 1, 1, 1, 1]))\n",
    "print(granitsy([7, 7, 7, 3, 2, 2, 2, 1, 1, 1, 1, 1, 1, 1, 1, 1, 1, 1, 1, 1, 1, 1, 1, 1, 1]))\n",
    "print(granitsy([7, 6, 5, 4, 3, 3, 2, 1, 1, 1, 1, 1, 1, 1, 1, 1, 1, 1, 1, 1, 1, 1, 1, 1, 1]))"
   ]
  },
  {
   "cell_type": "code",
   "execution_count": 136,
   "id": "2b244c6c",
   "metadata": {},
   "outputs": [
    {
     "data": {
      "text/plain": [
       "437"
      ]
     },
     "execution_count": 136,
     "metadata": {},
     "output_type": "execute_result"
    }
   ],
   "source": [
    "domnez8.count(25)"
   ]
  },
  {
   "cell_type": "code",
   "execution_count": 141,
   "id": "4e071c1b",
   "metadata": {},
   "outputs": [
    {
     "data": {
      "text/plain": [
       "12"
      ]
     },
     "execution_count": 141,
     "metadata": {},
     "output_type": "execute_result"
    }
   ],
   "source": [
    "max(dominir8)"
   ]
  },
  {
   "cell_type": "code",
   "execution_count": 74,
   "id": "e45954ca",
   "metadata": {},
   "outputs": [
    {
     "data": {
      "text/plain": [
       "13"
      ]
     },
     "execution_count": 74,
     "metadata": {},
     "output_type": "execute_result"
    }
   ],
   "source": [
    "[5, 4, 4, 4, 3, 3, 2, 2, 2, 2, 2, 2, 2, 1, 1, 1, 1, 1, 1, 1, 1, 1, 1, 1, 1, 1].count(1)"
   ]
  },
  {
   "cell_type": "code",
   "execution_count": 123,
   "id": "4f94f9f3",
   "metadata": {},
   "outputs": [
    {
     "data": {
      "image/png": "[encoded data removed]",
      "text/plain": [
       "<Figure size 432x288 with 1 Axes>"
      ]
     },
     "metadata": {
      "needs_background": "light"
     },
     "output_type": "display_data"
    }
   ],
   "source": [
    "plt.hist(dominir9)\n",
    "plt.hist(nezavis9, color = 'red')\n",
    "plt.hist(domnez9, color = 'green')\n",
    "plt.show()"
   ]
  },
  {
   "cell_type": "code",
   "execution_count": 84,
   "id": "8b31bcdd",
   "metadata": {},
   "outputs": [
    {
     "name": "stdout",
     "output_type": "stream",
     "text": [
      "(13, 19, 2, 13)\n"
     ]
    }
   ],
   "source": [
    "print(granitsy([13, 2, 2, 2, 2, 2, 2, 2, 2, 2, 2, 2, 2, 1, 1, 1, 1, 1, 1, 1, 1, 1, 1, 1, 1, 1]))"
   ]
  },
  {
   "cell_type": "code",
   "execution_count": null,
   "id": "2e733de2",
   "metadata": {},
   "outputs": [],
   "source": []
  }
 ],
 "metadata": {
  "kernelspec": {
   "display_name": "Python 3 (ipykernel)",
   "language": "python",
   "name": "python3"
  },
  "language_info": {
   "codemirror_mode": {
    "name": "ipython",
    "version": 3
   },
   "file_extension": ".py",
   "mimetype": "text/x-python",
   "name": "python",
   "nbconvert_exporter": "python",
   "pygments_lexer": "ipython3",
   "version": "3.10.0"
  }
 },
 "nbformat": 4,
 "nbformat_minor": 5
}
