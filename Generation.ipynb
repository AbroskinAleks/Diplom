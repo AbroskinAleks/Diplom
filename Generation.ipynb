{
 "cells": [
  {
   "cell_type": "code",
   "execution_count": 53,
   "metadata": {},
   "outputs": [],
   "source": [
    "import random\n",
    "import networkx\n",
    "import networkx as nx\n",
    "import matplotlib.pyplot as plt\n",
    "import statistics\n",
    "from tqdm import tqdm\n",
    "import time "
   ]
  },
  {
   "cell_type": "code",
   "execution_count": 3,
   "metadata": {},
   "outputs": [],
   "source": [
    "class Graph(object):\n",
    "    \n",
    "    def __init__(self, size):\n",
    "        self.nodes = range(size)\n",
    "        self.edges = []\n",
    "        self.pos_edges = []\n",
    "        for i in self.nodes:\n",
    "            for j in self.nodes:\n",
    "                if i != j:\n",
    "                    self.pos_edges.append((i, j))\n",
    "        self.matrix = []\n",
    "        for s in range(len(self.nodes)):\n",
    "            self.matrix.append([s] * len(self.nodes))\n",
    "            for j in range(len(self.nodes)):\n",
    "                self.matrix[s][j] = 0\n",
    "        \n",
    "    def step(self, func):\n",
    "        edge = self.pos_edges[random.randint(0, len(self.pos_edges) - 1)]\n",
    "        self.edges.append(edge) \n",
    "        self.matrix[edge[0]][edge[1]] = 1\n",
    "        self.matrix[edge[1]][edge[0]] = 1\n",
    "        self.pos_edges.remove(edge)\n",
    "        self.pos_edges = func(self.edges, self.pos_edges)\n",
    "                         \n",
    "    def draw(self):\n",
    "        g = networkx.Graph(directed=False)\n",
    "        for node in self.nodes:\n",
    "            g.add_node(node)\n",
    "        for edge in self.edges:\n",
    "            g.add_edge(edge[0], edge[1])\n",
    "        \n",
    "        plt.xkcd()\n",
    "        k = dict(nx.degree(g))\n",
    "        plt.figure(1, figsize= (10,7))\n",
    "        coord = nx.spring_layout(g, k = 0.3, iterations = 20)\n",
    "        nx.draw_networkx(g,\n",
    "                 pos=coord,\n",
    "                 nodelist=list(k.keys()),\n",
    "                 node_size = [10 for d in list(k.values())],\n",
    "                 #node_color=list(k.values()),\n",
    "                 font_size=8,\n",
    "                 cmap=plt.cm.Reds,\n",
    "                 width = 0.5,\n",
    "                 with_labels=False)\n",
    "        plt.show()"
   ]
  },
  {
   "cell_type": "code",
   "execution_count": 4,
   "metadata": {},
   "outputs": [],
   "source": [
    "def all_func(edges, pos_edges):\n",
    "    return pos_edges\n",
    "\n",
    "def pytak(graph):\n",
    "    for i in range(5):\n",
    "        graph.step(all_func)\n",
    "    #graph.draw()\n",
    "    return graph"
   ]
  },
  {
   "cell_type": "code",
   "execution_count": 5,
   "metadata": {},
   "outputs": [],
   "source": [
    "first = Graph(10)\n",
    "for i in range(9):\n",
    "    first = pytak(first)\n",
    "    #print(izol(first))\n"
   ]
  },
  {
   "cell_type": "code",
   "execution_count": 6,
   "metadata": {},
   "outputs": [],
   "source": [
    "def izol(graph):\n",
    "    flag = False\n",
    "    for node_spis in graph.matrix:\n",
    "        if not 1 in node_spis:\n",
    "            flag = True\n",
    "            break\n",
    "    return flag        "
   ]
  },
  {
   "cell_type": "code",
   "execution_count": 38,
   "metadata": {},
   "outputs": [
    {
     "name": "stderr",
     "output_type": "stream",
     "text": [
      "100%|█████████████████████████████████████████████████████████████████████████████| 1000/1000 [00:01<00:00, 864.00it/s]\n"
     ]
    }
   ],
   "source": [
    "zapusk = range(1, 1001)\n",
    "result10 = []\n",
    "\n",
    "for i in tqdm(zapusk):\n",
    "    example = Graph(10)\n",
    "    for j in range(45):\n",
    "        example.step(all_func)\n",
    "        if not izol(example):\n",
    "            result10.append(j + 1) \n",
    "            break"
   ]
  },
  {
   "cell_type": "code",
   "execution_count": 39,
   "metadata": {},
   "outputs": [
    {
     "name": "stderr",
     "output_type": "stream",
     "text": [
      "100%|██████████████████████████████████████████████████████████████████████████████| 1000/1000 [00:49<00:00, 20.08it/s]\n"
     ]
    }
   ],
   "source": [
    "zapusk = range(1, 1001)\n",
    "result100 = []\n",
    "\n",
    "for i in tqdm(zapusk):\n",
    "    example = Graph(100)\n",
    "    for j in range(99 * 50):\n",
    "        example.step(all_func)\n",
    "        if not izol(example):\n",
    "            result100.append(j)\n",
    "            break"
   ]
  },
  {
   "cell_type": "code",
   "execution_count": 40,
   "metadata": {},
   "outputs": [
    {
     "data": {
      "image/png": "[encoded data removed]",
      "text/plain": [
       "<Figure size 432x288 with 1 Axes>"
      ]
     },
     "metadata": {
      "needs_background": "light"
     },
     "output_type": "display_data"
    }
   ],
   "source": [
    "plt.hist(result10, bins = max(result10) - min(result10))\n",
    "plt.show()"
   ]
  },
  {
   "cell_type": "code",
   "execution_count": 41,
   "metadata": {},
   "outputs": [
    {
     "data": {
      "image/png": "[encoded data removed]",
      "text/plain": [
       "<Figure size 432x288 with 1 Axes>"
      ]
     },
     "metadata": {
      "needs_background": "light"
     },
     "output_type": "display_data"
    }
   ],
   "source": [
    "plt.hist(result100, bins = (max(result100) - min(result100))//5)\n",
    "plt.show()"
   ]
  },
  {
   "cell_type": "code",
   "execution_count": 60,
   "metadata": {},
   "outputs": [
    {
     "name": "stdout",
     "output_type": "stream",
     "text": [
      "252.595\n",
      "243.0\n",
      "538 131\n"
     ]
    }
   ],
   "source": [
    "print(statistics.mean(result100))\n",
    "print(statistics.median(result100))\n",
    "print(max(result100), min(result100))"
   ]
  },
  {
   "cell_type": "code",
   "execution_count": 7,
   "metadata": {},
   "outputs": [],
   "source": [
    "def trio(edges, pos_edges):\n",
    "    for pos_edge in pos_edges:\n",
    "        node1 = pos_edge[0]\n",
    "        node2 = pos_edge[1]\n",
    "        for edge in edges:\n",
    "            if node1 in edge:\n",
    "                if node1 == edge[0]:\n",
    "                    node3 = edge[1]\n",
    "                else:\n",
    "                    node3 = edge[0]\n",
    "                if (node2, node3) in edges or (node3, node2) in edges:\n",
    "                    pos_edges.remove(pos_edge)\n",
    "                    break\n",
    "            elif node2 in edge:\n",
    "                if node2 == edge[0]:\n",
    "                    node3 = edge[1]\n",
    "                else:\n",
    "                    node3 = edge[0]\n",
    "                if (node1, node3) in edges or (node3, node1) in edges:\n",
    "                    pos_edges.remove(pos_edge)\n",
    "                    break\n",
    "    return pos_edges"
   ]
  },
  {
   "cell_type": "code",
   "execution_count": 8,
   "metadata": {},
   "outputs": [],
   "source": [
    "def trio_f(edges, pos_edges):\n",
    "    for pos_edge in pos_edges:\n",
    "        node1 = pos_edge[0]\n",
    "        node2 = pos_edge[1]\n",
    "        edge = edges[-1]\n",
    "        if node1 in edge:\n",
    "            if node1 == edge[0]:\n",
    "                node3 = edge[1]\n",
    "            else:\n",
    "                node3 = edge[0]\n",
    "            if (node2, node3) in edges or (node3, node2) in edges:\n",
    "                pos_edges.remove(pos_edge)\n",
    "                break\n",
    "        elif node2 in edge:\n",
    "            if node2 == edge[0]:\n",
    "                node3 = edge[1]\n",
    "            else:\n",
    "                node3 = edge[0]\n",
    "            if (node1, node3) in edges or (node3, node1) in edges:\n",
    "                pos_edges.remove(pos_edge)\n",
    "                break\n",
    "    return pos_edges"
   ]
  },
  {
   "cell_type": "code",
   "execution_count": 44,
   "metadata": {},
   "outputs": [
    {
     "name": "stderr",
     "output_type": "stream",
     "text": [
      "100%|████████████████████████████████████████████████████████████████████████████| 1000/1000 [00:00<00:00, 2359.26it/s]\n"
     ]
    }
   ],
   "source": [
    "zapusk = range(1, 1001)\n",
    "result_3_10 = []\n",
    "\n",
    "for i in tqdm(zapusk):\n",
    "    example = Graph(10)\n",
    "    for j in range(45):\n",
    "        example.step(trio_f)\n",
    "        if not izol(example):\n",
    "            result_3_10.append(j + 1) \n",
    "            break"
   ]
  },
  {
   "cell_type": "code",
   "execution_count": 45,
   "metadata": {},
   "outputs": [
    {
     "data": {
      "image/png": "[encoded data removed]",
      "text/plain": [
       "<Figure size 432x288 with 1 Axes>"
      ]
     },
     "metadata": {
      "needs_background": "light"
     },
     "output_type": "display_data"
    }
   ],
   "source": [
    "plt.hist(result_3_10, bins = max(result_3_10) - min(result_3_10))\n",
    "plt.show()"
   ]
  },
  {
   "cell_type": "code",
   "execution_count": 62,
   "metadata": {},
   "outputs": [
    {
     "name": "stderr",
     "output_type": "stream",
     "text": [
      "100%|██████████████████████████████████████████████████████████████████████████████| 1000/1000 [05:41<00:00,  2.93it/s]\n"
     ]
    }
   ],
   "source": [
    "zapusk = range(1, 1001)\n",
    "result_3_100 = []\n",
    "\n",
    "for i in tqdm(zapusk):\n",
    "    example = Graph(100)\n",
    "    for j in range(99 * 50):\n",
    "        example.step(trio_f)\n",
    "        if not izol(example):\n",
    "            result_3_100.append(j)\n",
    "            break"
   ]
  },
  {
   "cell_type": "code",
   "execution_count": 63,
   "metadata": {},
   "outputs": [
    {
     "data": {
      "image/png": "[encoded data removed]",
      "text/plain": [
       "<Figure size 432x288 with 1 Axes>"
      ]
     },
     "metadata": {
      "needs_background": "light"
     },
     "output_type": "display_data"
    }
   ],
   "source": [
    "plt.hist(result_3_100, bins = (max(result_3_100) - min(result_3_100))//5)\n",
    "plt.show()"
   ]
  },
  {
   "cell_type": "code",
   "execution_count": 64,
   "metadata": {},
   "outputs": [
    {
     "name": "stdout",
     "output_type": "stream",
     "text": [
      "251.371\n",
      "240.5\n",
      "507 129\n"
     ]
    }
   ],
   "source": [
    "print(statistics.mean(result_3_100))\n",
    "print(statistics.median(result_3_100))\n",
    "print(max(result_3_100), min(result_3_100))"
   ]
  },
  {
   "cell_type": "code",
   "execution_count": 63,
   "metadata": {},
   "outputs": [],
   "source": [
    "# Import `xlwt` \n",
    "import xlwt\n",
    "\n",
    "# Initialize a workbook \n",
    "book = xlwt.Workbook(encoding=\"utf-8\")\n",
    "\n",
    "# Add a sheet to the workbook \n",
    "sheet1 = book.add_sheet(\"all_10\")\n",
    "sheet2 = book.add_sheet(\"all_100\") \n",
    "sheet3 = book.add_sheet(\"all_1000\") \n",
    "sheet4 = book.add_sheet(\"trio_10\") \n",
    "sheet5 = book.add_sheet(\"trio_100\") \n",
    "\n",
    "# Write to the sheet of the workbook\n",
    "for i in range(1000):\n",
    "    sheet1.write(i, 0, result10[i])\n",
    "    sheet2.write(i, 0, result100[i])\n",
    "    sheet3.write(i, 0, result1000[i])\n",
    "    sheet4.write(i, 0, result_3_10[i])\n",
    "    sheet5.write(i, 0, result_3_100[i])\n",
    "\n",
    "# Save the workbook \n",
    "book.save(\"Momenty.xls\")"
   ]
  },
  {
   "cell_type": "code",
   "execution_count": 9,
   "metadata": {},
   "outputs": [],
   "source": [
    "def find_komponent(tree_matrix, i):\n",
    "    nodes = [i]\n",
    "    obrabot = []\n",
    "    num = 0\n",
    "    while nodes != obrabot:\n",
    "        for i in range(len(tree_matrix)):\n",
    "            if tree_matrix[nodes[num]][i] == 1 and i not in nodes:\n",
    "                nodes.append(i)\n",
    "        obrabot.append(nodes[num])\n",
    "        num += 1\n",
    "    return nodes"
   ]
  },
  {
   "cell_type": "code",
   "execution_count": 25,
   "metadata": {},
   "outputs": [
    {
     "name": "stderr",
     "output_type": "stream",
     "text": [
      "100%|█████████████████████████████████████████████████████████████████████████████| 1000/1000 [00:01<00:00, 730.01it/s]\n"
     ]
    }
   ],
   "source": [
    "zapusk = range(1, 1001)\n",
    "result_komp_10 = []\n",
    "\n",
    "for i in tqdm(zapusk):\n",
    "    example = Graph(10)\n",
    "    for j in range(9 * 5):\n",
    "        example.step(trio)\n",
    "        if len(find_komponent(example.matrix, 0)) == 10:\n",
    "            result_komp_10.append(j)\n",
    "            break"
   ]
  },
  {
   "cell_type": "code",
   "execution_count": 26,
   "metadata": {},
   "outputs": [
    {
     "data": {
      "image/png": "[encoded data removed]",
      "text/plain": [
       "<Figure size 432x288 with 1 Axes>"
      ]
     },
     "metadata": {},
     "output_type": "display_data"
    }
   ],
   "source": [
    "plt.hist(result_komp_10, bins = max(result_komp_10) - min(result_komp_10))\n",
    "plt.show()"
   ]
  },
  {
   "cell_type": "code",
   "execution_count": 32,
   "metadata": {},
   "outputs": [
    {
     "name": "stderr",
     "output_type": "stream",
     "text": [
      "100%|████████████████████████████████████████████████████████████████████████████| 1000/1000 [00:00<00:00, 6306.17it/s]\n"
     ]
    }
   ],
   "source": [
    "zapusk = range(1, 1001)\n",
    "result_komp_all_10 = []\n",
    "\n",
    "for i in tqdm(zapusk):\n",
    "    example = Graph(10)\n",
    "    for j in range(9 * 5):\n",
    "        example.step(all_func)\n",
    "        if len(find_komponent(example.matrix, 0)) == 10:\n",
    "            result_komp_all_10.append(j)\n",
    "            break"
   ]
  },
  {
   "cell_type": "code",
   "execution_count": 33,
   "metadata": {},
   "outputs": [
    {
     "data": {
      "image/png": "[encoded data removed]",
      "text/plain": [
       "<Figure size 432x288 with 1 Axes>"
      ]
     },
     "metadata": {},
     "output_type": "display_data"
    }
   ],
   "source": [
    "plt.hist(result_komp_all_10, bins = max(result_komp_all_10) - min(result_komp_all_10))\n",
    "plt.show()"
   ]
  },
  {
   "cell_type": "code",
   "execution_count": 65,
   "metadata": {},
   "outputs": [
    {
     "name": "stderr",
     "output_type": "stream",
     "text": [
      "100%|██████████████████████████████████████████████████████████████████████████████| 1000/1000 [04:42<00:00,  3.54it/s]\n"
     ]
    }
   ],
   "source": [
    "zapusk = range(1, 1001)\n",
    "result_komp_all_100 = []\n",
    "\n",
    "for i in tqdm(zapusk):\n",
    "    example = Graph(100)\n",
    "    for j in range(99 * 50):\n",
    "        example.step(all_func)\n",
    "        if len(find_komponent(example.matrix, 0)) == 100:\n",
    "            result_komp_all_100.append(j)\n",
    "            break"
   ]
  },
  {
   "cell_type": "code",
   "execution_count": 66,
   "metadata": {},
   "outputs": [
    {
     "name": "stderr",
     "output_type": "stream",
     "text": [
      "100%|██████████████████████████████████████████████████████████████████████████████| 1000/1000 [09:34<00:00,  1.74it/s]\n"
     ]
    }
   ],
   "source": [
    "zapusk = range(1, 1001)\n",
    "result_komp_100 = []\n",
    "\n",
    "for i in tqdm(zapusk):\n",
    "    example = Graph(100)\n",
    "    for j in range(99 * 50):\n",
    "        example.step(trio_f)\n",
    "        if len(find_komponent(example.matrix, 0)) == 100:\n",
    "            result_komp_100.append(j)\n",
    "            break"
   ]
  },
  {
   "cell_type": "code",
   "execution_count": 67,
   "metadata": {},
   "outputs": [
    {
     "data": {
      "image/png": "[encoded data removed]",
      "text/plain": [
       "<Figure size 432x288 with 1 Axes>"
      ]
     },
     "metadata": {
      "needs_background": "light"
     },
     "output_type": "display_data"
    }
   ],
   "source": [
    "plt.hist(result_komp_all_100, bins = (max(result_komp_all_100) - min(result_komp_all_100))//5)\n",
    "plt.show()"
   ]
  },
  {
   "cell_type": "code",
   "execution_count": 68,
   "metadata": {},
   "outputs": [
    {
     "data": {
      "image/png": "[encoded data removed]",
      "text/plain": [
       "<Figure size 432x288 with 1 Axes>"
      ]
     },
     "metadata": {
      "needs_background": "light"
     },
     "output_type": "display_data"
    }
   ],
   "source": [
    "plt.hist(result_komp_100, bins = (max(result_komp_100) - min(result_komp_100))//5)\n",
    "plt.show()"
   ]
  },
  {
   "cell_type": "code",
   "execution_count": 70,
   "metadata": {},
   "outputs": [
    {
     "name": "stdout",
     "output_type": "stream",
     "text": [
      "251.975\n",
      "243.0\n",
      "610 127\n",
      "253.668\n",
      "245.5\n",
      "594 142\n"
     ]
    }
   ],
   "source": [
    "print(statistics.mean(result_komp_all_100))\n",
    "print(statistics.median(result_komp_all_100))\n",
    "print(max(result_komp_all_100), min(result_komp_all_100))\n",
    "print(statistics.mean(result_komp_100))\n",
    "print(statistics.median(result_komp_100))\n",
    "print(max(result_komp_100), min(result_komp_100))"
   ]
  },
  {
   "cell_type": "code",
   "execution_count": 21,
   "metadata": {},
   "outputs": [
    {
     "name": "stderr",
     "output_type": "stream",
     "text": [
      "100%|██████████████████████████████████████████████████████████████████████████████| 1000/1000 [04:25<00:00,  3.76it/s]\n"
     ]
    }
   ],
   "source": [
    "zapusk = range(1, 1001)\n",
    "result_srav_all_100 = []\n",
    "\n",
    "for i in tqdm(zapusk):\n",
    "    example = Graph(100)\n",
    "    iz = -1\n",
    "    svyz = -1\n",
    "    for j in range(99 * 50):\n",
    "        example.step(all_func)\n",
    "        if len(find_komponent(example.matrix, 0)) == 100 and svyz == -1:\n",
    "            svyz = j\n",
    "        if not izol(example) and iz == -1:\n",
    "            iz = j\n",
    "        if svyz != -1 and iz != -1:\n",
    "            if svyz == iz:\n",
    "                res = 1\n",
    "            else:\n",
    "                res = 0\n",
    "            result_srav_all_100.append(res)\n",
    "            break"
   ]
  },
  {
   "cell_type": "code",
   "execution_count": 22,
   "metadata": {},
   "outputs": [
    {
     "name": "stderr",
     "output_type": "stream",
     "text": [
      "100%|██████████████████████████████████████████████████████████████████████████████| 1000/1000 [08:05<00:00,  2.06it/s]\n"
     ]
    }
   ],
   "source": [
    "zapusk = range(1, 1001)\n",
    "result_srav_3_100 = []\n",
    "\n",
    "for i in tqdm(zapusk):\n",
    "    example = Graph(100)\n",
    "    iz = -1\n",
    "    svyz = -1\n",
    "    for j in range(99 * 50):\n",
    "        example.step(trio_f)\n",
    "        if len(find_komponent(example.matrix, 0)) == 100 and svyz == -1:\n",
    "            svyz = j\n",
    "        if not izol(example) and iz == -1:\n",
    "            iz = j\n",
    "        if svyz != -1 and iz != -1:\n",
    "            if svyz == iz:\n",
    "                res = 1\n",
    "            else:\n",
    "                res = 0\n",
    "            result_srav_3_100.append(res)\n",
    "            break"
   ]
  },
  {
   "cell_type": "code",
   "execution_count": 23,
   "metadata": {},
   "outputs": [
    {
     "name": "stdout",
     "output_type": "stream",
     "text": [
      "0.961\n",
      "0.957\n"
     ]
    }
   ],
   "source": [
    "print(sum(result_srav_all_100)/len(result_srav_all_100))\n",
    "print(sum(result_srav_3_100)/len(result_srav_3_100))"
   ]
  },
  {
   "cell_type": "code",
   "execution_count": 88,
   "metadata": {},
   "outputs": [
    {
     "name": "stderr",
     "output_type": "stream",
     "text": [
      "100%|████████████████████████████████████████████████████████████████████████████| 1000/1000 [00:00<00:00, 5473.82it/s]\n"
     ]
    }
   ],
   "source": [
    "zapusk = range(1, 1001)\n",
    "result_srav_all_10 = []\n",
    "\n",
    "for i in tqdm(zapusk):\n",
    "    example = Graph(10)\n",
    "    iz = -1\n",
    "    svyz = -1\n",
    "    for j in range(9 * 5):\n",
    "        example.step(all_func)\n",
    "        if len(find_komponent(example.matrix, 0)) == 10 and svyz == -1:\n",
    "            svyz = j\n",
    "        if not izol(example) and iz == -1:\n",
    "            iz = j\n",
    "        if svyz != -1 and iz != -1:\n",
    "            if svyz == iz:\n",
    "                res = 1\n",
    "            else:\n",
    "                res = 0\n",
    "            result_srav_all_10.append(res)\n",
    "            break"
   ]
  },
  {
   "cell_type": "code",
   "execution_count": 89,
   "metadata": {},
   "outputs": [
    {
     "name": "stderr",
     "output_type": "stream",
     "text": [
      "100%|████████████████████████████████████████████████████████████████████████████| 1000/1000 [00:00<00:00, 1710.52it/s]\n"
     ]
    }
   ],
   "source": [
    "zapusk = range(1, 1001)\n",
    "result_srav_3_10 = []\n",
    "\n",
    "for i in tqdm(zapusk):\n",
    "    example = Graph(10)\n",
    "    iz = -1\n",
    "    svyz = -1\n",
    "    for j in range(9 * 5):\n",
    "        example.step(trio_f)\n",
    "        if len(find_komponent(example.matrix, 0)) == 10 and svyz == -1:\n",
    "            svyz = j\n",
    "        if not izol(example) and iz == -1:\n",
    "            iz = j\n",
    "        if svyz != -1 and iz != -1:\n",
    "            if svyz == iz:\n",
    "                res = 1\n",
    "            else:\n",
    "                res = 0\n",
    "            result_srav_3_10.append(res)\n",
    "            break"
   ]
  },
  {
   "cell_type": "code",
   "execution_count": 90,
   "metadata": {},
   "outputs": [
    {
     "name": "stdout",
     "output_type": "stream",
     "text": [
      "0.738\n",
      "0.744\n"
     ]
    }
   ],
   "source": [
    "print(sum(result_srav_all_10)/len(result_srav_all_10))\n",
    "print(sum(result_srav_3_10)/len(result_srav_3_10))"
   ]
  },
  {
   "cell_type": "code",
   "execution_count": 73,
   "metadata": {},
   "outputs": [
    {
     "name": "stderr",
     "output_type": "stream",
     "text": [
      "100%|█████████████████████████████████████████████████████████████████████████████| 1000/1000 [00:02<00:00, 416.38it/s]\n"
     ]
    }
   ],
   "source": [
    "zapusk = range(1, 1001)\n",
    "result_srav_all_25 = []\n",
    "\n",
    "for i in tqdm(zapusk):\n",
    "    example = Graph(25)\n",
    "    iz = -1\n",
    "    svyz = -1\n",
    "    for j in range(12 * 25):\n",
    "        example.step(all_func)\n",
    "        if len(find_komponent(example.matrix, 0)) == 25 and svyz == -1:\n",
    "            svyz = j\n",
    "        if not izol(example) and iz == -1:\n",
    "            iz = j\n",
    "        if svyz != -1 and iz != -1:\n",
    "            if svyz == iz:\n",
    "                res = 1\n",
    "            else:\n",
    "                res = 0\n",
    "            result_srav_all_25.append(res)\n",
    "            break"
   ]
  },
  {
   "cell_type": "code",
   "execution_count": 74,
   "metadata": {},
   "outputs": [
    {
     "name": "stderr",
     "output_type": "stream",
     "text": [
      "100%|█████████████████████████████████████████████████████████████████████████████| 1000/1000 [00:06<00:00, 146.03it/s]\n"
     ]
    }
   ],
   "source": [
    "zapusk = range(1, 1001)\n",
    "result_srav_3_25 = []\n",
    "\n",
    "for i in tqdm(zapusk):\n",
    "    example = Graph(25)\n",
    "    iz = -1\n",
    "    svyz = -1\n",
    "    for j in range(12 * 25):\n",
    "        example.step(trio_f)\n",
    "        if len(find_komponent(example.matrix, 0)) == 25 and svyz == -1:\n",
    "            svyz = j\n",
    "        if not izol(example) and iz == -1:\n",
    "            iz = j\n",
    "        if svyz != -1 and iz != -1:\n",
    "            if svyz == iz:\n",
    "                res = 1\n",
    "            else:\n",
    "                res = 0\n",
    "            result_srav_3_25.append(res)\n",
    "            break"
   ]
  },
  {
   "cell_type": "code",
   "execution_count": 75,
   "metadata": {},
   "outputs": [
    {
     "name": "stdout",
     "output_type": "stream",
     "text": [
      "0.881\n",
      "0.86\n"
     ]
    }
   ],
   "source": [
    "print(sum(result_srav_all_25)/len(result_srav_all_25))\n",
    "print(sum(result_srav_3_25)/len(result_srav_3_25))"
   ]
  },
  {
   "cell_type": "code",
   "execution_count": 76,
   "metadata": {},
   "outputs": [
    {
     "name": "stderr",
     "output_type": "stream",
     "text": [
      "100%|██████████████████████████████████████████████████████████████████████████████| 1000/1000 [00:31<00:00, 31.36it/s]\n"
     ]
    }
   ],
   "source": [
    "zapusk = range(1, 1001)\n",
    "result_srav_all_50 = []\n",
    "\n",
    "for i in tqdm(zapusk):\n",
    "    example = Graph(50)\n",
    "    iz = -1\n",
    "    svyz = -1\n",
    "    for j in range(49 * 25):\n",
    "        example.step(all_func)\n",
    "        if len(find_komponent(example.matrix, 0)) == 50 and svyz == -1:\n",
    "            svyz = j\n",
    "        if not izol(example) and iz == -1:\n",
    "            iz = j\n",
    "        if svyz != -1 and iz != -1:\n",
    "            if svyz == iz:\n",
    "                res = 1\n",
    "            else:\n",
    "                res = 0\n",
    "            result_srav_all_50.append(res)\n",
    "            break"
   ]
  },
  {
   "cell_type": "code",
   "execution_count": 77,
   "metadata": {},
   "outputs": [
    {
     "name": "stderr",
     "output_type": "stream",
     "text": [
      "100%|██████████████████████████████████████████████████████████████████████████████| 1000/1000 [01:08<00:00, 14.50it/s]\n"
     ]
    }
   ],
   "source": [
    "zapusk = range(1, 1001)\n",
    "result_srav_3_50 = []\n",
    "\n",
    "for i in tqdm(zapusk):\n",
    "    example = Graph(50)\n",
    "    iz = -1\n",
    "    svyz = -1\n",
    "    for j in range(49 * 25):\n",
    "        example.step(trio_f)\n",
    "        if len(find_komponent(example.matrix, 0)) == 50 and svyz == -1:\n",
    "            svyz = j\n",
    "        if not izol(example) and iz == -1:\n",
    "            iz = j\n",
    "        if svyz != -1 and iz != -1:\n",
    "            if svyz == iz:\n",
    "                res = 1\n",
    "            else:\n",
    "                res = 0\n",
    "            result_srav_3_50.append(res)\n",
    "            break"
   ]
  },
  {
   "cell_type": "code",
   "execution_count": 78,
   "metadata": {},
   "outputs": [
    {
     "name": "stdout",
     "output_type": "stream",
     "text": [
      "0.926\n",
      "0.919\n"
     ]
    }
   ],
   "source": [
    "print(sum(result_srav_all_50)/len(result_srav_all_50))\n",
    "print(sum(result_srav_3_50)/len(result_srav_3_50))"
   ]
  },
  {
   "cell_type": "code",
   "execution_count": 79,
   "metadata": {},
   "outputs": [
    {
     "name": "stderr",
     "output_type": "stream",
     "text": [
      "100%|██████████████████████████████████████████████████████████████████████████████| 1000/1000 [54:43<00:00,  3.28s/it]\n"
     ]
    }
   ],
   "source": [
    "zapusk = range(1, 1001)\n",
    "result_srav_all_200 = []\n",
    "\n",
    "for i in tqdm(zapusk):\n",
    "    example = Graph(200)\n",
    "    iz = -1\n",
    "    svyz = -1\n",
    "    for j in range(199 * 100):\n",
    "        example.step(all_func)\n",
    "        if len(find_komponent(example.matrix, 0)) == 200 and svyz == -1:\n",
    "            svyz = j\n",
    "        if not izol(example) and iz == -1:\n",
    "            iz = j\n",
    "        if svyz != -1 and iz != -1:\n",
    "            if svyz == iz:\n",
    "                res = 1\n",
    "            else:\n",
    "                res = 0\n",
    "            result_srav_all_200.append(res)\n",
    "            break"
   ]
  },
  {
   "cell_type": "code",
   "execution_count": 80,
   "metadata": {},
   "outputs": [
    {
     "name": "stderr",
     "output_type": "stream",
     "text": [
      "100%|████████████████████████████████████████████████████████████████████████████| 1000/1000 [1:45:56<00:00,  6.36s/it]\n"
     ]
    }
   ],
   "source": [
    "zapusk = range(1, 1001)\n",
    "result_srav_3_200 = []\n",
    "\n",
    "for i in tqdm(zapusk):\n",
    "    example = Graph(200)\n",
    "    iz = -1\n",
    "    svyz = -1\n",
    "    for j in range(199 * 100):\n",
    "        example.step(trio_f)\n",
    "        if len(find_komponent(example.matrix, 0)) == 200 and svyz == -1:\n",
    "            svyz = j\n",
    "        if not izol(example) and iz == -1:\n",
    "            iz = j\n",
    "        if svyz != -1 and iz != -1:\n",
    "            if svyz == iz:\n",
    "                res = 1\n",
    "            else:\n",
    "                res = 0\n",
    "            result_srav_3_200.append(res)\n",
    "            break"
   ]
  },
  {
   "cell_type": "code",
   "execution_count": 81,
   "metadata": {},
   "outputs": [
    {
     "name": "stdout",
     "output_type": "stream",
     "text": [
      "0.965\n",
      "0.976\n"
     ]
    }
   ],
   "source": [
    "print(sum(result_srav_all_200)/len(result_srav_all_200))\n",
    "print(sum(result_srav_3_200)/len(result_srav_3_200))"
   ]
  },
  {
   "cell_type": "code",
   "execution_count": null,
   "metadata": {},
   "outputs": [],
   "source": []
  }
 ],
 "metadata": {
  "kernelspec": {
   "display_name": "Python 3 (ipykernel)",
   "language": "python",
   "name": "python3"
  },
  "language_info": {
   "codemirror_mode": {
    "name": "ipython",
    "version": 3
   },
   "file_extension": ".py",
   "mimetype": "text/x-python",
   "name": "python",
   "nbconvert_exporter": "python",
   "pygments_lexer": "ipython3",
   "version": "3.10.0"
  }
 },
 "nbformat": 4,
 "nbformat_minor": 4
}
